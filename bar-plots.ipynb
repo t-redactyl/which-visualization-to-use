{
 "cells": [
  {
   "cell_type": "markdown",
   "source": [
    "# Bar plots\n",
    "\n",
    "This notebook contains the code to create bar plots and stacked bar plots in `lets-plot`, using the [\"Airlines Delays from 2003-2016\"](https://www.kaggle.com/datasets/giovamata/airlinedelaycauses) dataset by [Priank Ravichandar](https://www.kaggle.com/priankravichandar) licensed under [CC0 1.0](https://creativecommons.org/publicdomain/zero/1.0/). This dataset contains the information on flight delays and cancellations in the US airports for the period of 2003-2016."
   ],
   "metadata": {
    "collapsed": false
   }
  },
  {
   "cell_type": "code",
   "execution_count": 1,
   "outputs": [
    {
     "data": {
      "text/html": "\n            <div id=\"YR2I4J\"></div>\n            <script type=\"text/javascript\" data-lets-plot-script=\"library\">\n                if(!window.letsPlotCallQueue) {\n                    window.letsPlotCallQueue = [];\n                }; \n                window.letsPlotCall = function(f) {\n                    window.letsPlotCallQueue.push(f);\n                };\n                (function() {\n                    var script = document.createElement(\"script\");\n                    script.type = \"text/javascript\";\n                    script.src = \"https://cdn.jsdelivr.net/gh/JetBrains/lets-plot@v3.0.0/js-package/distr/lets-plot.min.js\";\n                    script.onload = function() {\n                        window.letsPlotCall = function(f) {f();};\n                        window.letsPlotCallQueue.forEach(function(f) {f();});\n                        window.letsPlotCallQueue = [];\n                        \n                    };\n                    script.onerror = function(event) {\n                        window.letsPlotCall = function(f) {};    // noop\n                        window.letsPlotCallQueue = [];\n                        var div = document.createElement(\"div\");\n                        div.style.color = 'darkred';\n                        div.textContent = 'Error loading Lets-Plot JS';\n                        document.getElementById(\"YR2I4J\").appendChild(div);\n                    };\n                    var e = document.getElementById(\"YR2I4J\");\n                    e.appendChild(script);\n                })()\n            </script>\n            "
     },
     "metadata": {},
     "output_type": "display_data"
    }
   ],
   "source": [
    "import pandas as pd\n",
    "from lets_plot import *\n",
    "\n",
    "LetsPlot.setup_html()"
   ],
   "metadata": {
    "collapsed": false
   }
  },
  {
   "cell_type": "markdown",
   "source": [
    "## Import and process the data\n",
    "* Create a date/time variable from the month/year column\n",
    "* Remove the first and last years, as they only contain partial records for the year"
   ],
   "metadata": {
    "collapsed": false
   }
  },
  {
   "cell_type": "code",
   "execution_count": 2,
   "outputs": [],
   "source": [
    "airlines = pd.read_csv(\"data/airlines.csv\")\n",
    "airlines[\"Time\"] = pd.to_datetime(airlines[\"TimeLabel\"], infer_datetime_format=True)\n",
    "airlines = airlines[~(airlines[\"TimeYear\"].isin([2003, 2016]))]"
   ],
   "metadata": {
    "collapsed": false
   }
  },
  {
   "cell_type": "markdown",
   "source": [
    "## Create a summary DataFrame that gives the proportion of flights delayed by airport"
   ],
   "metadata": {
    "collapsed": false
   }
  },
  {
   "cell_type": "code",
   "execution_count": 3,
   "outputs": [],
   "source": [
    "flights_delayed_by_airport = (\n",
    "    airlines[[\"AirportCode\", \"FlightsDelayed\", \"FlightsTotal\"]]\n",
    "    .groupby([\"AirportCode\"])\n",
    "    .sum()\n",
    "    .assign(PropFlightsDelayed=lambda x: x[\"FlightsDelayed\"] / x[\"FlightsTotal\"])\n",
    "    .reset_index()\n",
    "    .sort_values(\"PropFlightsDelayed\", ascending=False)\n",
    ")"
   ],
   "metadata": {
    "collapsed": false
   }
  },
  {
   "cell_type": "markdown",
   "source": [
    "## Bar plot to show proportion of flights delayed per airport"
   ],
   "metadata": {
    "collapsed": false
   }
  },
  {
   "cell_type": "code",
   "execution_count": 12,
   "outputs": [
    {
     "data": {
      "text/plain": "<lets_plot.plot.core.PlotSpec at 0x123f9ae50>",
      "text/html": "   <div id=\"sYvddb\"></div>\n   <script type=\"text/javascript\" data-lets-plot-script=\"plot\">\n       (function() {\n           var plotSpec={\n\"data\":{\n\"AirportCode\":[\"EWR\",\"LGA\",\"SFO\",\"JFK\",\"PHL\",\"ORD\",\"FLL\",\"BOS\",\"MIA\",\"ATL\",\"MCO\",\"TPA\",\"IAD\",\"LAX\",\"LAS\",\"SEA\",\"SAN\",\"DCA\",\"PDX\",\"DEN\",\"IAH\",\"BWI\",\"DFW\",\"MSP\",\"DTW\",\"CLT\",\"MDW\",\"PHX\",\"SLC\"],\n\"PropFlightsDelayed\":[0.29332234581065725,0.2651050573242725,0.25750246301222846,0.24527744546354144,0.23564139118651722,0.23408183715612838,0.22411821631080167,0.22003969123386308,0.20923788503397453,0.20760831980616606,0.19790315277148865,0.1973087808814603,0.19681243898499476,0.19490135944536208,0.1942962155042469,0.19340484504531785,0.1905526508975111,0.18812464022024777,0.18523616309925825,0.18469370322526502,0.18341524816051497,0.1833912922971443,0.1833690287790697,0.18232180373469795,0.18169007618167293,0.181388105891861,0.18134921150097646,0.16564603368519804,0.1477078354149187]\n},\n\"mapping\":{\n\"x\":\"AirportCode\",\n\"y\":\"PropFlightsDelayed\"\n},\n\"data_meta\":{\n},\n\"coord\":{\n\"name\":\"flip\",\n\"flip\":true\n},\n\"ggtitle\":{\n\"text\":\"Proportion of flights delayed in US airports, 2004-2015\"\n},\n\"kind\":\"plot\",\n\"scales\":[{\n\"name\":\"Airport Code\",\n\"aesthetic\":\"x\"\n},{\n\"name\":\"Flights delayed (proportion)\",\n\"aesthetic\":\"y\"\n}],\n\"layers\":[{\n\"geom\":\"bar\",\n\"stat\":\"identity\",\n\"mapping\":{\n},\n\"data_meta\":{\n},\n\"fill\":\"#b3cde3\",\n\"data\":{\n}\n}],\n\"metainfo_list\":[]\n};\n           var plotContainer = document.getElementById(\"sYvddb\");\n           window.letsPlotCall(function() {{\n               LetsPlot.buildPlotFromProcessedSpecs(plotSpec, -1, -1, plotContainer);\n           }});\n       })();    \n   </script>"
     },
     "execution_count": 12,
     "metadata": {},
     "output_type": "execute_result"
    }
   ],
   "source": [
    "(\n",
    "        ggplot(flights_delayed_by_airport, aes(x=\"AirportCode\", y=\"PropFlightsDelayed\"))\n",
    "        + geom_bar(stat=\"identity\", fill = \"#b3cde3\")\n",
    "        + coord_flip()\n",
    "        + xlab(\"Airport Code\")\n",
    "        + ylab(\"Flights delayed (proportion)\")\n",
    "        + ggtitle(\"Proportion of flights delayed in US airports, 2004-2015\")\n",
    ")"
   ],
   "metadata": {
    "collapsed": false
   }
  },
  {
   "cell_type": "markdown",
   "source": [
    "## Create a summary DataFrame to show proportion of flights delayed by cause and airport"
   ],
   "metadata": {
    "collapsed": false
   }
  },
  {
   "cell_type": "code",
   "execution_count": 5,
   "outputs": [],
   "source": [
    "delays_by_airport_and_cause = (\n",
    "    airlines[[\"AirportCode\", \"NumDelaysLateAircraft\", \"NumDelaysWeather\", \"NumDelaysSecurity\", \"NumDelaysCarrier\",\n",
    "              \"FlightsTotal\"]]\n",
    "    .groupby(\"AirportCode\")\n",
    "    .sum()\n",
    "    .reset_index()\n",
    ")\n",
    "\n",
    "delays_by_airport_and_cause = (\n",
    "    pd.melt(delays_by_airport_and_cause, id_vars=[\"AirportCode\", \"FlightsTotal\"],\n",
    "            value_vars=[\"NumDelaysLateAircraft\", \"NumDelaysWeather\", \"NumDelaysSecurity\", \"NumDelaysCarrier\"],\n",
    "            var_name=\"TypeOfDelay\",\n",
    "            value_name=\"NumberDelays\")\n",
    "    .assign(TypeOfDelay=lambda x: x[\"TypeOfDelay\"].str.replace(\"NumDelays\", \"\"))\n",
    "    .assign(PropFlightsDelayed=lambda x: x[\"NumberDelays\"] / x[\"FlightsTotal\"])\n",
    "    .assign(PropTypeOfDelay=lambda x: x[\"NumberDelays\"] / x.groupby(\"AirportCode\")[\"NumberDelays\"].transform(\"sum\"))\n",
    ")"
   ],
   "metadata": {
    "collapsed": false
   }
  },
  {
   "cell_type": "markdown",
   "source": [
    "## Bar plot showing proportion of flights delayed by cause"
   ],
   "metadata": {
    "collapsed": false
   }
  },
  {
   "cell_type": "code",
   "execution_count": 10,
   "outputs": [
    {
     "data": {
      "text/plain": "<lets_plot.plot.core.PlotSpec at 0x12425efd0>",
      "text/html": "   <div id=\"SDmoqm\"></div>\n   <script type=\"text/javascript\" data-lets-plot-script=\"plot\">\n       (function() {\n           var plotSpec={\n\"data\":{\n\"AirportCode\":[\"DEN\",\"EWR\",\"SLC\",\"DEN\",\"EWR\",\"SLC\",\"DEN\",\"EWR\",\"SLC\",\"DEN\",\"EWR\",\"SLC\"],\n\"TypeOfDelay\":[\"LateAircraft\",\"LateAircraft\",\"LateAircraft\",\"Weather\",\"Weather\",\"Weather\",\"Security\",\"Security\",\"Security\",\"Carrier\",\"Carrier\",\"Carrier\"],\n\"PropFlightsDelayed\":[0.06981517891663944,0.06679752500964906,0.05482624781650753,0.005585618932584438,0.008729612200219623,0.005331158162014817,4.023713685422018E-4,4.495473687490184E-4,7.145385909195243E-4,0.049322712327699636,0.03829736636457338,0.04769901715281659]\n},\n\"mapping\":{\n\"x\":\"AirportCode\",\n\"y\":\"PropFlightsDelayed\",\n\"fill\":\"TypeOfDelay\"\n},\n\"data_meta\":{\n},\n\"ggtitle\":{\n\"text\":\"Proportion of flights delayed by cause in US airports, 2004-2015\"\n},\n\"kind\":\"plot\",\n\"scales\":[{\n\"name\":\"Airport Code\",\n\"aesthetic\":\"x\"\n},{\n\"name\":\"Flights delayed (proportion)\",\n\"aesthetic\":\"y\"\n},{\n\"name\":\"Year\",\n\"aesthetic\":\"fill\",\n\"labels\":[\"Late aircraft\",\"Weather\",\"Security\",\"Carrier\"],\n\"type\":\"qual\",\n\"palette\":\"Pastel1\",\n\"scale_mapper_kind\":\"color_brewer\"\n}],\n\"layers\":[{\n\"geom\":\"bar\",\n\"stat\":\"identity\",\n\"mapping\":{\n},\n\"position\":\"dodge\",\n\"data_meta\":{\n},\n\"data\":{\n}\n}],\n\"metainfo_list\":[]\n};\n           var plotContainer = document.getElementById(\"SDmoqm\");\n           window.letsPlotCall(function() {{\n               LetsPlot.buildPlotFromProcessedSpecs(plotSpec, -1, -1, plotContainer);\n           }});\n       })();    \n   </script>"
     },
     "execution_count": 10,
     "metadata": {},
     "output_type": "execute_result"
    }
   ],
   "source": [
    "(\n",
    "        ggplot(\n",
    "            delays_by_airport_and_cause[(delays_by_airport_and_cause[\"AirportCode\"].isin([\"EWR\", \"SLC\", \"DEN\"]))],\n",
    "            aes(x=\"AirportCode\", y=\"PropFlightsDelayed\", fill=\"TypeOfDelay\")\n",
    "        )\n",
    "        + geom_bar(stat=\"identity\", position=\"dodge\")\n",
    "        + xlab(\"Airport Code\")\n",
    "        + ylab(\"Flights delayed (proportion)\")\n",
    "        + ggtitle(\"Proportion of flights delayed by cause in US airports, 2004-2015\")\n",
    "        + scale_fill_brewer(type=\"qual\", palette=\"Pastel1\", name=\"Year\",\n",
    "                            labels=[\"Late aircraft\", \"Weather\", \"Security\", \"Carrier\"])\n",
    ")"
   ],
   "metadata": {
    "collapsed": false
   }
  },
  {
   "cell_type": "markdown",
   "source": [
    "## Stacked bar plot showing proportion of delayed flights by cause"
   ],
   "metadata": {
    "collapsed": false
   }
  },
  {
   "cell_type": "code",
   "execution_count": 11,
   "outputs": [
    {
     "data": {
      "text/plain": "<lets_plot.plot.core.PlotSpec at 0x123f1e730>",
      "text/html": "   <div id=\"osr9NN\"></div>\n   <script type=\"text/javascript\" data-lets-plot-script=\"plot\">\n       (function() {\n           var plotSpec={\n\"data\":{\n\"AirportCode\":[\"ATL\",\"BOS\",\"BWI\",\"CLT\",\"DCA\",\"DEN\",\"DFW\",\"DTW\",\"EWR\",\"FLL\",\"IAD\",\"IAH\",\"JFK\",\"LAS\",\"LAX\",\"LGA\",\"MCO\",\"MDW\",\"MIA\",\"MSP\",\"ORD\",\"PDX\",\"PHL\",\"PHX\",\"SAN\",\"SEA\",\"SFO\",\"SLC\",\"TPA\",\"ATL\",\"BOS\",\"BWI\",\"CLT\",\"DCA\",\"DEN\",\"DFW\",\"DTW\",\"EWR\",\"FLL\",\"IAD\",\"IAH\",\"JFK\",\"LAS\",\"LAX\",\"LGA\",\"MCO\",\"MDW\",\"MIA\",\"MSP\",\"ORD\",\"PDX\",\"PHL\",\"PHX\",\"SAN\",\"SEA\",\"SFO\",\"SLC\",\"TPA\",\"ATL\",\"BOS\",\"BWI\",\"CLT\",\"DCA\",\"DEN\",\"DFW\",\"DTW\",\"EWR\",\"FLL\",\"IAD\",\"IAH\",\"JFK\",\"LAS\",\"LAX\",\"LGA\",\"MCO\",\"MDW\",\"MIA\",\"MSP\",\"ORD\",\"PDX\",\"PHL\",\"PHX\",\"SAN\",\"SEA\",\"SFO\",\"SLC\",\"TPA\",\"ATL\",\"BOS\",\"BWI\",\"CLT\",\"DCA\",\"DEN\",\"DFW\",\"DTW\",\"EWR\",\"FLL\",\"IAD\",\"IAH\",\"JFK\",\"LAS\",\"LAX\",\"LGA\",\"MCO\",\"MDW\",\"MIA\",\"MSP\",\"ORD\",\"PDX\",\"PHL\",\"PHX\",\"SAN\",\"SEA\",\"SFO\",\"SLC\",\"TPA\"],\n\"TypeOfDelay\":[\"LateAircraft\",\"LateAircraft\",\"LateAircraft\",\"LateAircraft\",\"LateAircraft\",\"LateAircraft\",\"LateAircraft\",\"LateAircraft\",\"LateAircraft\",\"LateAircraft\",\"LateAircraft\",\"LateAircraft\",\"LateAircraft\",\"LateAircraft\",\"LateAircraft\",\"LateAircraft\",\"LateAircraft\",\"LateAircraft\",\"LateAircraft\",\"LateAircraft\",\"LateAircraft\",\"LateAircraft\",\"LateAircraft\",\"LateAircraft\",\"LateAircraft\",\"LateAircraft\",\"LateAircraft\",\"LateAircraft\",\"LateAircraft\",\"Weather\",\"Weather\",\"Weather\",\"Weather\",\"Weather\",\"Weather\",\"Weather\",\"Weather\",\"Weather\",\"Weather\",\"Weather\",\"Weather\",\"Weather\",\"Weather\",\"Weather\",\"Weather\",\"Weather\",\"Weather\",\"Weather\",\"Weather\",\"Weather\",\"Weather\",\"Weather\",\"Weather\",\"Weather\",\"Weather\",\"Weather\",\"Weather\",\"Weather\",\"Security\",\"Security\",\"Security\",\"Security\",\"Security\",\"Security\",\"Security\",\"Security\",\"Security\",\"Security\",\"Security\",\"Security\",\"Security\",\"Security\",\"Security\",\"Security\",\"Security\",\"Security\",\"Security\",\"Security\",\"Security\",\"Security\",\"Security\",\"Security\",\"Security\",\"Security\",\"Security\",\"Security\",\"Security\",\"Carrier\",\"Carrier\",\"Carrier\",\"Carrier\",\"Carrier\",\"Carrier\",\"Carrier\",\"Carrier\",\"Carrier\",\"Carrier\",\"Carrier\",\"Carrier\",\"Carrier\",\"Carrier\",\"Carrier\",\"Carrier\",\"Carrier\",\"Carrier\",\"Carrier\",\"Carrier\",\"Carrier\",\"Carrier\",\"Carrier\",\"Carrier\",\"Carrier\",\"Carrier\",\"Carrier\",\"Carrier\",\"Carrier\"],\n\"PropTypeOfDelay\":[0.5391161589562729,0.5162755239155592,0.5913897824938782,0.49651340567550434,0.47676203886706986,0.5579595368626546,0.6036166226830861,0.5217957194695932,0.5845379984197465,0.4968836888960691,0.5681250424531505,0.576252018711947,0.5170525976800788,0.5841833770941283,0.5317906530589804,0.49368813421640495,0.5114810266359818,0.6125014082920235,0.4736819061462885,0.4898592977563696,0.6210403015319439,0.5460506218634082,0.500685077043691,0.5289051295652345,0.5318373090974634,0.5186468151527887,0.5527434599982126,0.504980769690165,0.5184728758467252,0.06933724634154315,0.06338541866625715,0.05229389734479282,0.046009372164423065,0.06901407255978081,0.0446399966465359,0.06954270634200962,0.056877638888165806,0.07639190287005197,0.04134107663659476,0.04058898557724964,0.0515913918366836,0.06638343727356615,0.03435028773690855,0.03981608210909491,0.10277826910100951,0.04016553318403699,0.05860607255520505,0.06237357595075264,0.061178395694810955,0.04699294534427414,0.028682085969888717,0.07949091814977909,0.033378519086069036,0.03302622548509868,0.03370955153989314,0.04765147227175426,0.04910298368409737,0.04019618384378076,0.0017942692348204459,0.002490004332826923,0.004243289960147885,0.0034244446930429702,0.0027568305779165146,0.003215732537284832,0.0023710459638385585,0.0034464985761067063,0.003933940951935811,0.005042216874845885,0.002339640299172069,0.00529142480376242,0.005096890463303008,0.004743979986213414,0.004681861980560724,0.0019325380447955767,0.004613050702277629,0.006097904461469131,0.0038879499820488796,0.004741930651424884,0.0019672224818429855,0.004680340388391883,0.0029161568276903013,0.006420306084359836,0.003944568073262206,0.0061535690700606355,0.0033577754418517556,0.0065813047944387375,0.00400307674493619,0.38975232546736355,0.4178490530853567,0.35207303020118114,0.4540527774670296,0.4514670579952328,0.3941847339535246,0.3244696250110657,0.41788014306613425,0.3351361577582657,0.45673301759249024,0.3889463316704277,0.366865164647607,0.41146707458305204,0.3767223551827497,0.4237114028513639,0.40160105863778994,0.4437403894777036,0.3227946146913024,0.46005656792091,0.44422037589739455,0.329999530641939,0.4205869517783111,0.41690784797883956,0.4312960452643367,0.4311918973441757,0.4414900642372576,0.3962472922881814,0.43933494183129884,0.4373278635645579]\n},\n\"mapping\":{\n\"x\":\"AirportCode\",\n\"y\":\"PropTypeOfDelay\",\n\"fill\":\"TypeOfDelay\"\n},\n\"data_meta\":{\n},\n\"ggtitle\":{\n\"text\":\"Division of delayed US flights by cause, 2004-2015\"\n},\n\"kind\":\"plot\",\n\"scales\":[{\n\"name\":\"Airport Code\",\n\"aesthetic\":\"x\"\n},{\n\"name\":\"Proportion of delayed flights\",\n\"aesthetic\":\"y\"\n},{\n\"name\":\"Year\",\n\"aesthetic\":\"fill\",\n\"labels\":[\"Late aircraft\",\"Weather\",\"Security\",\"Carrier\"],\n\"type\":\"qual\",\n\"palette\":\"Pastel1\",\n\"scale_mapper_kind\":\"color_brewer\"\n}],\n\"layers\":[{\n\"geom\":\"bar\",\n\"stat\":\"identity\",\n\"mapping\":{\n},\n\"data_meta\":{\n},\n\"data\":{\n}\n}],\n\"metainfo_list\":[]\n};\n           var plotContainer = document.getElementById(\"osr9NN\");\n           window.letsPlotCall(function() {{\n               LetsPlot.buildPlotFromProcessedSpecs(plotSpec, -1, -1, plotContainer);\n           }});\n       })();    \n   </script>"
     },
     "execution_count": 11,
     "metadata": {},
     "output_type": "execute_result"
    }
   ],
   "source": [
    "(\n",
    "        ggplot(delays_by_airport_and_cause, aes(x=\"AirportCode\", y=\"PropTypeOfDelay\", fill=\"TypeOfDelay\"))\n",
    "        + geom_bar(stat=\"identity\")\n",
    "        + xlab(\"Airport Code\")\n",
    "        + ylab(\"Proportion of delayed flights\")\n",
    "        + ggtitle(\"Division of delayed US flights by cause, 2004-2015\")\n",
    "        + scale_fill_brewer(type=\"qual\", palette=\"Pastel1\", name=\"Year\",\n",
    "                            labels=[\"Late aircraft\", \"Weather\", \"Security\", \"Carrier\"])\n",
    ")"
   ],
   "metadata": {
    "collapsed": false
   }
  },
  {
   "cell_type": "code",
   "execution_count": null,
   "outputs": [],
   "source": [],
   "metadata": {
    "collapsed": false
   }
  }
 ],
 "metadata": {
  "kernelspec": {
   "display_name": "Python 3",
   "language": "python",
   "name": "python3"
  },
  "language_info": {
   "codemirror_mode": {
    "name": "ipython",
    "version": 2
   },
   "file_extension": ".py",
   "mimetype": "text/x-python",
   "name": "python",
   "nbconvert_exporter": "python",
   "pygments_lexer": "ipython2",
   "version": "2.7.6"
  }
 },
 "nbformat": 4,
 "nbformat_minor": 0
}
