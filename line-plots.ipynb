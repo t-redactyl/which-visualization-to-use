{
 "cells": [
  {
   "cell_type": "markdown",
   "source": [
    "# Line plots\n",
    "\n",
    "This notebook contains the code to create line plots and area plots in `lets-plot`, using the [\"Airlines Delays from 2003-2016\"](https://www.kaggle.com/datasets/giovamata/airlinedelaycauses) dataset by [Priank Ravichandar](https://www.kaggle.com/priankravichandar) licensed under [CC0 1.0](https://creativecommons.org/publicdomain/zero/1.0/). This dataset contains the information on flight delays and cancellations in the US airports for the period of 2003-2016.\n",
    "\n",
    "## Importing the dependencies"
   ],
   "metadata": {
    "collapsed": false
   }
  },
  {
   "cell_type": "code",
   "execution_count": 1,
   "outputs": [
    {
     "data": {
      "text/html": "\n            <div id=\"GMqfXg\"></div>\n            <script type=\"text/javascript\" data-lets-plot-script=\"library\">\n                if(!window.letsPlotCallQueue) {\n                    window.letsPlotCallQueue = [];\n                }; \n                window.letsPlotCall = function(f) {\n                    window.letsPlotCallQueue.push(f);\n                };\n                (function() {\n                    var script = document.createElement(\"script\");\n                    script.type = \"text/javascript\";\n                    script.src = \"https://cdn.jsdelivr.net/gh/JetBrains/lets-plot@v3.0.0/js-package/distr/lets-plot.min.js\";\n                    script.onload = function() {\n                        window.letsPlotCall = function(f) {f();};\n                        window.letsPlotCallQueue.forEach(function(f) {f();});\n                        window.letsPlotCallQueue = [];\n                        \n                    };\n                    script.onerror = function(event) {\n                        window.letsPlotCall = function(f) {};    // noop\n                        window.letsPlotCallQueue = [];\n                        var div = document.createElement(\"div\");\n                        div.style.color = 'darkred';\n                        div.textContent = 'Error loading Lets-Plot JS';\n                        document.getElementById(\"GMqfXg\").appendChild(div);\n                    };\n                    var e = document.getElementById(\"GMqfXg\");\n                    e.appendChild(script);\n                })()\n            </script>\n            "
     },
     "metadata": {},
     "output_type": "display_data"
    }
   ],
   "source": [
    "import pandas as pd\n",
    "from lets_plot import *\n",
    "\n",
    "LetsPlot.setup_html()"
   ],
   "metadata": {
    "collapsed": false
   }
  },
  {
   "cell_type": "markdown",
   "source": [
    "## Import and process the data\n",
    "* Create a date/time variable from the month/year column\n",
    "* Remove the first and last years, as they only contain partial records for the year"
   ],
   "metadata": {
    "collapsed": false
   }
  },
  {
   "cell_type": "code",
   "execution_count": 2,
   "outputs": [],
   "source": [
    "airlines = pd.read_csv(\"data/airlines.csv\")\n",
    "airlines[\"Time\"] = pd.to_datetime(airlines[\"TimeLabel\"], infer_datetime_format=True)\n",
    "airlines = airlines[~(airlines[\"TimeYear\"].isin([2003, 2016]))]"
   ],
   "metadata": {
    "collapsed": false
   }
  },
  {
   "cell_type": "markdown",
   "source": [
    "## Create a summary DataFrame that gives the number of delays over time by cause"
   ],
   "metadata": {
    "collapsed": false
   }
  },
  {
   "cell_type": "code",
   "execution_count": 3,
   "outputs": [],
   "source": [
    "delays_by_time_and_cause = (\n",
    "    airlines[[\"Time\", \"NumDelaysLateAircraft\", \"NumDelaysWeather\", \"NumDelaysSecurity\", \"NumDelaysCarrier\"]]\n",
    "    .groupby(\"Time\")\n",
    "    .sum()\n",
    "    .reset_index()\n",
    ")\n",
    "\n",
    "delays_by_time_and_cause = (\n",
    "    pd.melt(delays_by_time_and_cause, id_vars=\"Time\",\n",
    "            value_vars=[\"NumDelaysLateAircraft\", \"NumDelaysWeather\", \"NumDelaysSecurity\", \"NumDelaysCarrier\"])\n",
    "    .rename(columns={\n",
    "        \"variable\": \"TypeOfDelay\",\n",
    "        \"value\": \"NumberDelays\"\n",
    "    })\n",
    "    .assign(TypeOfDelay=lambda x: x[\"TypeOfDelay\"].str.replace(\"NumDelays\", \"\"))\n",
    ")"
   ],
   "metadata": {
    "collapsed": false
   }
  },
  {
   "cell_type": "markdown",
   "source": [
    "## Create a lineplot showing total delays over time due to late aircraft"
   ],
   "metadata": {
    "collapsed": false
   }
  },
  {
   "cell_type": "code",
   "execution_count": 29,
   "outputs": [
    {
     "data": {
      "text/plain": "<lets_plot.plot.core.PlotSpec at 0x1241784f0>",
      "text/html": "   <div id=\"asaGC8\"></div>\n   <script type=\"text/javascript\" data-lets-plot-script=\"plot\">\n       (function() {\n           var plotSpec={\n\"data\":{\n\"Time\":[1.0729152E12,1.0755936E12,1.0780992E12,1.0807776E12,1.0833696E12,1.086048E12,1.08864E12,1.0913184E12,1.0939968E12,1.0965888E12,1.0992672E12,1.1018592E12,1.1045376E12,1.107216E12,1.1096352E12,1.1123136E12,1.1149056E12,1.117584E12,1.120176E12,1.1228544E12,1.1255328E12,1.1281248E12,1.1308032E12,1.1333952E12,1.1360736E12,1.138752E12,1.1411712E12,1.1438496E12,1.1464416E12,1.14912E12,1.151712E12,1.1543904E12,1.1570688E12,1.1596608E12,1.1623392E12,1.1649312E12,1.1676096E12,1.170288E12,1.1727072E12,1.1753856E12,1.1779776E12,1.180656E12,1.183248E12,1.1859264E12,1.1886048E12,1.1911968E12,1.1938752E12,1.1964672E12,1.1991456E12,1.201824E12,1.2043296E12,1.207008E12,1.2096E12,1.2122784E12,1.2148704E12,1.2175488E12,1.2202272E12,1.2228192E12,1.2254976E12,1.2280896E12,1.230768E12,1.2334464E12,1.2358656E12,1.238544E12,1.241136E12,1.2438144E12,1.2464064E12,1.2490848E12,1.2517632E12,1.2543552E12,1.2570336E12,1.2596256E12,1.262304E12,1.2649824E12,1.2674016E12,1.27008E12,1.272672E12,1.2753504E12,1.2779424E12,1.2806208E12,1.2832992E12,1.2858912E12,1.2885696E12,1.2911616E12,1.29384E12,1.2965184E12,1.2989376E12,1.301616E12,1.304208E12,1.3068864E12,1.3094784E12,1.3121568E12,1.3148352E12,1.3174272E12,1.3201056E12,1.3226976E12,1.325376E12,1.3280544E12,1.33056E12,1.3332384E12,1.3358304E12,1.3385088E12,1.3411008E12,1.3437792E12,1.3464576E12,1.3490496E12,1.351728E12,1.35432E12,1.3569984E12,1.3596768E12,1.362096E12,1.3647744E12,1.3673664E12,1.3700448E12,1.3726368E12,1.3753152E12,1.3779936E12,1.3805856E12,1.383264E12,1.385856E12,1.3885344E12,1.3912128E12,1.393632E12,1.3963104E12,1.3989024E12,1.4015808E12,1.4041728E12,1.4068512E12,1.4095296E12,1.4121216E12,1.4148E12,1.417392E12,1.4200704E12,1.4227488E12,1.425168E12,1.4278464E12,1.4304384E12,1.4331168E12,1.4357088E12,1.4383872E12,1.4410656E12,1.4436576E12,1.446336E12,1.448928E12],\n\"NumberDelays\":[19907.0,18174.0,17260.0,15042.0,19697.0,26191.0,24777.0,23222.0,11952.0,17896.0,19366.0,29141.0,25621.0,19070.0,24405.0,15672.0,17078.0,27115.0,33544.0,26606.0,15003.0,18213.0,17978.0,29255.0,20513.0,22719.0,27350.0,24539.0,25189.0,32214.0,32354.0,28764.0,24000.0,29212.0,24332.0,32793.0,29834.0,33296.0,31719.0,28307.0,25584.0,38032.0,38909.0,36727.0,19062.0,25242.0,22081.0,40727.0,30466.0,33206.0,32938.0,23794.0,23452.0,33102.0,28064.0,24389.0,12440.0,13149.0,15176.0,36485.0,20799.0,14696.0,22182.0,20755.0,19717.0,26239.0,26478.0,22903.0,12134.0,22909.0,10396.0,28017.0,19199.0,19530.0,21350.0,15012.0,21042.0,27097.0,28108.0,22317.0,14758.0,18105.0,17432.0,29601.0,21785.0,20574.0,23862.0,26101.0,24655.0,27007.0,27774.0,23034.0,15929.0,14682.0,14130.0,15609.0,15160.0,12502.0,20165.0,14853.0,18362.0,23087.0,30599.0,26161.0,18287.0,20367.0,15280.0,26187.0,19113.0,18993.0,23879.0,26966.0,24507.0,37144.0,36058.0,28174.0,17914.0,18808.0,17757.0,34715.0,28764.0,24416.0,25154.0,22187.0,25020.0,32170.0,29212.0,25532.0,17883.0,21156.0,19473.0,25887.0,21901.0,21549.0,22603.0,18390.0,20694.0,28231.0,27109.0,22412.0,12734.0,12591.0,15317.0,23910.0]\n},\n\"mapping\":{\n\"x\":\"Time\",\n\"y\":\"NumberDelays\"\n},\n\"data_meta\":{\n\"series_annotations\":[{\n\"column\":\"Time\",\n\"type\":\"datetime\"\n}]\n},\n\"ggtitle\":{\n\"text\":\"Total delays due to late aircrafts in US airports, 2004-2015\"\n},\n\"kind\":\"plot\",\n\"scales\":[{\n\"aesthetic\":\"x\",\n\"datetime\":true\n},{\n\"name\":\"Time\",\n\"aesthetic\":\"x\"\n},{\n\"name\":\"Number of delays\",\n\"aesthetic\":\"y\"\n}],\n\"layers\":[{\n\"geom\":\"line\",\n\"mapping\":{\n},\n\"data_meta\":{\n},\n\"color\":\"#fbb4ae\",\n\"size\":1,\n\"data\":{\n}\n}],\n\"metainfo_list\":[]\n};\n           var plotContainer = document.getElementById(\"asaGC8\");\n           window.letsPlotCall(function() {{\n               LetsPlot.buildPlotFromProcessedSpecs(plotSpec, -1, -1, plotContainer);\n           }});\n       })();    \n   </script>"
     },
     "execution_count": 29,
     "metadata": {},
     "output_type": "execute_result"
    }
   ],
   "source": [
    "(\n",
    "        ggplot(delays_by_time_and_cause[delays_by_time_and_cause[\"TypeOfDelay\"] == \"LateAircraft\"],\n",
    "               aes(x=\"Time\", y=\"NumberDelays\"))\n",
    "        + geom_line(color = \"#fbb4ae\", size = 1)\n",
    "        + scale_x_datetime()\n",
    "        + xlab(\"Time\")\n",
    "        + ylab(\"Number of delays\")\n",
    "        + ggtitle(\"Total delays due to late aircrafts in US airports, 2004-2015\")\n",
    ")"
   ],
   "metadata": {
    "collapsed": false
   }
  },
  {
   "cell_type": "markdown",
   "source": [
    "## Create a line plot which shows delays over time due to late aircraft or carrier issues"
   ],
   "metadata": {
    "collapsed": false
   }
  },
  {
   "cell_type": "code",
   "execution_count": 27,
   "outputs": [
    {
     "data": {
      "text/plain": "<lets_plot.plot.core.PlotSpec at 0x124129f40>",
      "text/html": "   <div id=\"gOB15B\"></div>\n   <script type=\"text/javascript\" data-lets-plot-script=\"plot\">\n       (function() {\n           var plotSpec={\n\"data\":{\n\"Time\":[1.0729152E12,1.0755936E12,1.0780992E12,1.0807776E12,1.0833696E12,1.086048E12,1.08864E12,1.0913184E12,1.0939968E12,1.0965888E12,1.0992672E12,1.1018592E12,1.1045376E12,1.107216E12,1.1096352E12,1.1123136E12,1.1149056E12,1.117584E12,1.120176E12,1.1228544E12,1.1255328E12,1.1281248E12,1.1308032E12,1.1333952E12,1.1360736E12,1.138752E12,1.1411712E12,1.1438496E12,1.1464416E12,1.14912E12,1.151712E12,1.1543904E12,1.1570688E12,1.1596608E12,1.1623392E12,1.1649312E12,1.1676096E12,1.170288E12,1.1727072E12,1.1753856E12,1.1779776E12,1.180656E12,1.183248E12,1.1859264E12,1.1886048E12,1.1911968E12,1.1938752E12,1.1964672E12,1.1991456E12,1.201824E12,1.2043296E12,1.207008E12,1.2096E12,1.2122784E12,1.2148704E12,1.2175488E12,1.2202272E12,1.2228192E12,1.2254976E12,1.2280896E12,1.230768E12,1.2334464E12,1.2358656E12,1.238544E12,1.241136E12,1.2438144E12,1.2464064E12,1.2490848E12,1.2517632E12,1.2543552E12,1.2570336E12,1.2596256E12,1.262304E12,1.2649824E12,1.2674016E12,1.27008E12,1.272672E12,1.2753504E12,1.2779424E12,1.2806208E12,1.2832992E12,1.2858912E12,1.2885696E12,1.2911616E12,1.29384E12,1.2965184E12,1.2989376E12,1.301616E12,1.304208E12,1.3068864E12,1.3094784E12,1.3121568E12,1.3148352E12,1.3174272E12,1.3201056E12,1.3226976E12,1.325376E12,1.3280544E12,1.33056E12,1.3332384E12,1.3358304E12,1.3385088E12,1.3411008E12,1.3437792E12,1.3464576E12,1.3490496E12,1.351728E12,1.35432E12,1.3569984E12,1.3596768E12,1.362096E12,1.3647744E12,1.3673664E12,1.3700448E12,1.3726368E12,1.3753152E12,1.3779936E12,1.3805856E12,1.383264E12,1.385856E12,1.3885344E12,1.3912128E12,1.393632E12,1.3963104E12,1.3989024E12,1.4015808E12,1.4041728E12,1.4068512E12,1.4095296E12,1.4121216E12,1.4148E12,1.417392E12,1.4200704E12,1.4227488E12,1.425168E12,1.4278464E12,1.4304384E12,1.4331168E12,1.4357088E12,1.4383872E12,1.4410656E12,1.4436576E12,1.446336E12,1.448928E12,1.0729152E12,1.0755936E12,1.0780992E12,1.0807776E12,1.0833696E12,1.086048E12,1.08864E12,1.0913184E12,1.0939968E12,1.0965888E12,1.0992672E12,1.1018592E12,1.1045376E12,1.107216E12,1.1096352E12,1.1123136E12,1.1149056E12,1.117584E12,1.120176E12,1.1228544E12,1.1255328E12,1.1281248E12,1.1308032E12,1.1333952E12,1.1360736E12,1.138752E12,1.1411712E12,1.1438496E12,1.1464416E12,1.14912E12,1.151712E12,1.1543904E12,1.1570688E12,1.1596608E12,1.1623392E12,1.1649312E12,1.1676096E12,1.170288E12,1.1727072E12,1.1753856E12,1.1779776E12,1.180656E12,1.183248E12,1.1859264E12,1.1886048E12,1.1911968E12,1.1938752E12,1.1964672E12,1.1991456E12,1.201824E12,1.2043296E12,1.207008E12,1.2096E12,1.2122784E12,1.2148704E12,1.2175488E12,1.2202272E12,1.2228192E12,1.2254976E12,1.2280896E12,1.230768E12,1.2334464E12,1.2358656E12,1.238544E12,1.241136E12,1.2438144E12,1.2464064E12,1.2490848E12,1.2517632E12,1.2543552E12,1.2570336E12,1.2596256E12,1.262304E12,1.2649824E12,1.2674016E12,1.27008E12,1.272672E12,1.2753504E12,1.2779424E12,1.2806208E12,1.2832992E12,1.2858912E12,1.2885696E12,1.2911616E12,1.29384E12,1.2965184E12,1.2989376E12,1.301616E12,1.304208E12,1.3068864E12,1.3094784E12,1.3121568E12,1.3148352E12,1.3174272E12,1.3201056E12,1.3226976E12,1.325376E12,1.3280544E12,1.33056E12,1.3332384E12,1.3358304E12,1.3385088E12,1.3411008E12,1.3437792E12,1.3464576E12,1.3490496E12,1.351728E12,1.35432E12,1.3569984E12,1.3596768E12,1.362096E12,1.3647744E12,1.3673664E12,1.3700448E12,1.3726368E12,1.3753152E12,1.3779936E12,1.3805856E12,1.383264E12,1.385856E12,1.3885344E12,1.3912128E12,1.393632E12,1.3963104E12,1.3989024E12,1.4015808E12,1.4041728E12,1.4068512E12,1.4095296E12,1.4121216E12,1.4148E12,1.417392E12,1.4200704E12,1.4227488E12,1.425168E12,1.4278464E12,1.4304384E12,1.4331168E12,1.4357088E12,1.4383872E12,1.4410656E12,1.4436576E12,1.446336E12,1.448928E12],\n\"TypeOfDelay\":[\"LateAircraft\",\"LateAircraft\",\"LateAircraft\",\"LateAircraft\",\"LateAircraft\",\"LateAircraft\",\"LateAircraft\",\"LateAircraft\",\"LateAircraft\",\"LateAircraft\",\"LateAircraft\",\"LateAircraft\",\"LateAircraft\",\"LateAircraft\",\"LateAircraft\",\"LateAircraft\",\"LateAircraft\",\"LateAircraft\",\"LateAircraft\",\"LateAircraft\",\"LateAircraft\",\"LateAircraft\",\"LateAircraft\",\"LateAircraft\",\"LateAircraft\",\"LateAircraft\",\"LateAircraft\",\"LateAircraft\",\"LateAircraft\",\"LateAircraft\",\"LateAircraft\",\"LateAircraft\",\"LateAircraft\",\"LateAircraft\",\"LateAircraft\",\"LateAircraft\",\"LateAircraft\",\"LateAircraft\",\"LateAircraft\",\"LateAircraft\",\"LateAircraft\",\"LateAircraft\",\"LateAircraft\",\"LateAircraft\",\"LateAircraft\",\"LateAircraft\",\"LateAircraft\",\"LateAircraft\",\"LateAircraft\",\"LateAircraft\",\"LateAircraft\",\"LateAircraft\",\"LateAircraft\",\"LateAircraft\",\"LateAircraft\",\"LateAircraft\",\"LateAircraft\",\"LateAircraft\",\"LateAircraft\",\"LateAircraft\",\"LateAircraft\",\"LateAircraft\",\"LateAircraft\",\"LateAircraft\",\"LateAircraft\",\"LateAircraft\",\"LateAircraft\",\"LateAircraft\",\"LateAircraft\",\"LateAircraft\",\"LateAircraft\",\"LateAircraft\",\"LateAircraft\",\"LateAircraft\",\"LateAircraft\",\"LateAircraft\",\"LateAircraft\",\"LateAircraft\",\"LateAircraft\",\"LateAircraft\",\"LateAircraft\",\"LateAircraft\",\"LateAircraft\",\"LateAircraft\",\"LateAircraft\",\"LateAircraft\",\"LateAircraft\",\"LateAircraft\",\"LateAircraft\",\"LateAircraft\",\"LateAircraft\",\"LateAircraft\",\"LateAircraft\",\"LateAircraft\",\"LateAircraft\",\"LateAircraft\",\"LateAircraft\",\"LateAircraft\",\"LateAircraft\",\"LateAircraft\",\"LateAircraft\",\"LateAircraft\",\"LateAircraft\",\"LateAircraft\",\"LateAircraft\",\"LateAircraft\",\"LateAircraft\",\"LateAircraft\",\"LateAircraft\",\"LateAircraft\",\"LateAircraft\",\"LateAircraft\",\"LateAircraft\",\"LateAircraft\",\"LateAircraft\",\"LateAircraft\",\"LateAircraft\",\"LateAircraft\",\"LateAircraft\",\"LateAircraft\",\"LateAircraft\",\"LateAircraft\",\"LateAircraft\",\"LateAircraft\",\"LateAircraft\",\"LateAircraft\",\"LateAircraft\",\"LateAircraft\",\"LateAircraft\",\"LateAircraft\",\"LateAircraft\",\"LateAircraft\",\"LateAircraft\",\"LateAircraft\",\"LateAircraft\",\"LateAircraft\",\"LateAircraft\",\"LateAircraft\",\"LateAircraft\",\"LateAircraft\",\"LateAircraft\",\"LateAircraft\",\"LateAircraft\",\"LateAircraft\",\"Carrier\",\"Carrier\",\"Carrier\",\"Carrier\",\"Carrier\",\"Carrier\",\"Carrier\",\"Carrier\",\"Carrier\",\"Carrier\",\"Carrier\",\"Carrier\",\"Carrier\",\"Carrier\",\"Carrier\",\"Carrier\",\"Carrier\",\"Carrier\",\"Carrier\",\"Carrier\",\"Carrier\",\"Carrier\",\"Carrier\",\"Carrier\",\"Carrier\",\"Carrier\",\"Carrier\",\"Carrier\",\"Carrier\",\"Carrier\",\"Carrier\",\"Carrier\",\"Carrier\",\"Carrier\",\"Carrier\",\"Carrier\",\"Carrier\",\"Carrier\",\"Carrier\",\"Carrier\",\"Carrier\",\"Carrier\",\"Carrier\",\"Carrier\",\"Carrier\",\"Carrier\",\"Carrier\",\"Carrier\",\"Carrier\",\"Carrier\",\"Carrier\",\"Carrier\",\"Carrier\",\"Carrier\",\"Carrier\",\"Carrier\",\"Carrier\",\"Carrier\",\"Carrier\",\"Carrier\",\"Carrier\",\"Carrier\",\"Carrier\",\"Carrier\",\"Carrier\",\"Carrier\",\"Carrier\",\"Carrier\",\"Carrier\",\"Carrier\",\"Carrier\",\"Carrier\",\"Carrier\",\"Carrier\",\"Carrier\",\"Carrier\",\"Carrier\",\"Carrier\",\"Carrier\",\"Carrier\",\"Carrier\",\"Carrier\",\"Carrier\",\"Carrier\",\"Carrier\",\"Carrier\",\"Carrier\",\"Carrier\",\"Carrier\",\"Carrier\",\"Carrier\",\"Carrier\",\"Carrier\",\"Carrier\",\"Carrier\",\"Carrier\",\"Carrier\",\"Carrier\",\"Carrier\",\"Carrier\",\"Carrier\",\"Carrier\",\"Carrier\",\"Carrier\",\"Carrier\",\"Carrier\",\"Carrier\",\"Carrier\",\"Carrier\",\"Carrier\",\"Carrier\",\"Carrier\",\"Carrier\",\"Carrier\",\"Carrier\",\"Carrier\",\"Carrier\",\"Carrier\",\"Carrier\",\"Carrier\",\"Carrier\",\"Carrier\",\"Carrier\",\"Carrier\",\"Carrier\",\"Carrier\",\"Carrier\",\"Carrier\",\"Carrier\",\"Carrier\",\"Carrier\",\"Carrier\",\"Carrier\",\"Carrier\",\"Carrier\",\"Carrier\",\"Carrier\",\"Carrier\",\"Carrier\",\"Carrier\",\"Carrier\",\"Carrier\",\"Carrier\",\"Carrier\"],\n\"NumberDelays\":[19907.0,18174.0,17260.0,15042.0,19697.0,26191.0,24777.0,23222.0,11952.0,17896.0,19366.0,29141.0,25621.0,19070.0,24405.0,15672.0,17078.0,27115.0,33544.0,26606.0,15003.0,18213.0,17978.0,29255.0,20513.0,22719.0,27350.0,24539.0,25189.0,32214.0,32354.0,28764.0,24000.0,29212.0,24332.0,32793.0,29834.0,33296.0,31719.0,28307.0,25584.0,38032.0,38909.0,36727.0,19062.0,25242.0,22081.0,40727.0,30466.0,33206.0,32938.0,23794.0,23452.0,33102.0,28064.0,24389.0,12440.0,13149.0,15176.0,36485.0,20799.0,14696.0,22182.0,20755.0,19717.0,26239.0,26478.0,22903.0,12134.0,22909.0,10396.0,28017.0,19199.0,19530.0,21350.0,15012.0,21042.0,27097.0,28108.0,22317.0,14758.0,18105.0,17432.0,29601.0,21785.0,20574.0,23862.0,26101.0,24655.0,27007.0,27774.0,23034.0,15929.0,14682.0,14130.0,15609.0,15160.0,12502.0,20165.0,14853.0,18362.0,23087.0,30599.0,26161.0,18287.0,20367.0,15280.0,26187.0,19113.0,18993.0,23879.0,26966.0,24507.0,37144.0,36058.0,28174.0,17914.0,18808.0,17757.0,34715.0,28764.0,24416.0,25154.0,22187.0,25020.0,32170.0,29212.0,25532.0,17883.0,21156.0,19473.0,25887.0,21901.0,21549.0,22603.0,18390.0,20694.0,28231.0,27109.0,22412.0,12734.0,12591.0,15317.0,23910.0,16806.0,13330.0,13041.0,12133.0,14260.0,18913.0,19453.0,17385.0,11320.0,13908.0,14856.0,23455.0,20316.0,15426.0,19269.0,13850.0,14410.0,20241.0,23809.0,21225.0,14174.0,15086.0,15987.0,24912.0,18370.0,17409.0,19984.0,17778.0,17820.0,24134.0,25006.0,22132.0,17903.0,20327.0,18075.0,25064.0,22512.0,24445.0,25575.0,21226.0,19410.0,27070.0,27039.0,25748.0,16060.0,18238.0,16842.0,29069.0,21414.0,20722.0,22358.0,17755.0,16612.0,21658.0,20864.0,19023.0,11623.0,11645.0,11033.0,22557.0,14919.0,10956.0,14276.0,13995.0,13531.0,17588.0,18353.0,16734.0,10781.0,14875.0,9407.0,18770.0,14451.0,13255.0,15262.0,12114.0,14500.0,18203.0,19350.0,15485.0,11102.0,12746.0,12333.0,19689.0,15310.0,13476.0,15134.0,15728.0,15883.0,17855.0,17700.0,16057.0,11665.0,11582.0,10843.0,12400.0,11267.0,9996.0,14266.0,11393.0,13389.0,16980.0,19319.0,17705.0,13545.0,14773.0,11995.0,17534.0,13937.0,12904.0,15344.0,15989.0,15261.0,20916.0,21224.0,17684.0,12592.0,13088.0,12955.0,23361.0,20771.0,16456.0,17152.0,14284.0,16834.0,19801.0,19080.0,17390.0,12751.0,14529.0,13788.0,18206.0,16476.0,16646.0,17829.0,15017.0,15961.0,21192.0,19600.0,17355.0,11614.0,11874.0,13164.0,18248.0]\n},\n\"mapping\":{\n\"x\":\"Time\",\n\"y\":\"NumberDelays\",\n\"color\":\"TypeOfDelay\"\n},\n\"data_meta\":{\n\"series_annotations\":[{\n\"column\":\"Time\",\n\"type\":\"datetime\"\n}]\n},\n\"ggtitle\":{\n\"text\":\"Total delays in US airport, 2004-2015\"\n},\n\"kind\":\"plot\",\n\"scales\":[{\n\"aesthetic\":\"x\",\n\"datetime\":true\n},{\n\"name\":\"Time\",\n\"aesthetic\":\"x\"\n},{\n\"name\":\"Number of delays\",\n\"aesthetic\":\"y\"\n},{\n\"name\":\"Type of delay\",\n\"aesthetic\":\"color\",\n\"labels\":[\"Late aircraft\",\"Carrier\"],\n\"type\":\"qual\",\n\"palette\":\"Pastel1\",\n\"scale_mapper_kind\":\"color_brewer\"\n}],\n\"layers\":[{\n\"geom\":\"line\",\n\"mapping\":{\n},\n\"data_meta\":{\n},\n\"size\":1,\n\"data\":{\n}\n}],\n\"metainfo_list\":[]\n};\n           var plotContainer = document.getElementById(\"gOB15B\");\n           window.letsPlotCall(function() {{\n               LetsPlot.buildPlotFromProcessedSpecs(plotSpec, -1, -1, plotContainer);\n           }});\n       })();    \n   </script>"
     },
     "execution_count": 27,
     "metadata": {},
     "output_type": "execute_result"
    }
   ],
   "source": [
    "(\n",
    "        ggplot(delays_by_time_and_cause[delays_by_time_and_cause[\"TypeOfDelay\"].isin([\"LateAircraft\", \"Carrier\"])],\n",
    "               aes(x=\"Time\", y=\"NumberDelays\", color=\"TypeOfDelay\"))\n",
    "        + geom_line(size = 1)\n",
    "        + scale_x_datetime()\n",
    "        + xlab(\"Time\")\n",
    "        + ylab(\"Number of delays\")\n",
    "        + ggtitle(\"Total delays in US airport, 2004-2015\")\n",
    "        + scale_color_brewer(type=\"qual\", palette=\"Pastel1\", name=\"Type of delay\", labels=[\"Late aircraft\", \"Carrier\"])\n",
    ")"
   ],
   "metadata": {
    "collapsed": false
   }
  },
  {
   "cell_type": "markdown",
   "source": [
    "## Create an area plot which shows delays due to weather and late aircraft"
   ],
   "metadata": {
    "collapsed": false
   }
  },
  {
   "cell_type": "code",
   "execution_count": 22,
   "outputs": [
    {
     "data": {
      "text/plain": "<lets_plot.plot.core.PlotSpec at 0x124663730>",
      "text/html": "   <div id=\"DjXPJK\"></div>\n   <script type=\"text/javascript\" data-lets-plot-script=\"plot\">\n       (function() {\n           var plotSpec={\n\"data\":{\n\"Time\":[1.0729152E12,1.1938752E12,1.2096E12,1.207008E12,1.2043296E12,1.201824E12,1.1991456E12,1.1964672E12,1.1911968E12,1.2148704E12,1.1886048E12,1.1859264E12,1.183248E12,1.180656E12,1.1779776E12,1.1753856E12,1.2122784E12,1.2175488E12,1.170288E12,1.241136E12,1.2570336E12,1.2543552E12,1.2517632E12,1.2490848E12,1.2464064E12,1.2438144E12,1.238544E12,1.2202272E12,1.2358656E12,1.2334464E12,1.230768E12,1.2280896E12,1.2254976E12,1.2228192E12,1.1727072E12,1.1676096E12,1.262304E12,1.0992672E12,1.1149056E12,1.1123136E12,1.1096352E12,1.107216E12,1.1045376E12,1.1018592E12,1.0965888E12,1.120176E12,1.0939968E12,1.0913184E12,1.08864E12,1.086048E12,1.0833696E12,1.0807776E12,1.117584E12,1.1228544E12,1.1649312E12,1.1464416E12,1.1623392E12,1.1596608E12,1.1570688E12,1.1543904E12,1.151712E12,1.14912E12,1.1438496E12,1.1255328E12,1.1411712E12,1.138752E12,1.1360736E12,1.1333952E12,1.1308032E12,1.1281248E12,1.2596256E12,1.2649824E12,1.0755936E12,1.383264E12,1.3989024E12,1.3963104E12,1.393632E12,1.3912128E12,1.3885344E12,1.385856E12,1.3805856E12,1.4041728E12,1.3779936E12,1.3753152E12,1.3726368E12,1.3700448E12,1.3673664E12,1.3647744E12,1.4015808E12,1.4068512E12,1.3596768E12,1.4304384E12,1.446336E12,1.4436576E12,1.4410656E12,1.4383872E12,1.4357088E12,1.4331168E12,1.4278464E12,1.4095296E12,1.425168E12,1.4227488E12,1.4200704E12,1.417392E12,1.4148E12,1.4121216E12,1.362096E12,1.3569984E12,1.2674016E12,1.2885696E12,1.304208E12,1.301616E12,1.2989376E12,1.2965184E12,1.29384E12,1.2911616E12,1.2858912E12,1.3094784E12,1.2832992E12,1.2806208E12,1.2779424E12,1.2753504E12,1.272672E12,1.27008E12,1.3068864E12,1.3121568E12,1.35432E12,1.3358304E12,1.351728E12,1.3490496E12,1.3464576E12,1.3437792E12,1.3411008E12,1.3385088E12,1.3332384E12,1.3148352E12,1.33056E12,1.3280544E12,1.325376E12,1.3226976E12,1.3201056E12,1.3174272E12,1.0780992E12,1.448928E12,1.0755936E12,1.448928E12,1.2096E12,1.207008E12,1.2043296E12,1.201824E12,1.1991456E12,1.1964672E12,1.1938752E12,1.1911968E12,1.1886048E12,1.1859264E12,1.183248E12,1.180656E12,1.1779776E12,1.1753856E12,1.1727072E12,1.2122784E12,1.2148704E12,1.2175488E12,1.241136E12,1.2570336E12,1.2543552E12,1.2517632E12,1.2490848E12,1.2464064E12,1.2438144E12,1.238544E12,1.2202272E12,1.2358656E12,1.2334464E12,1.230768E12,1.2280896E12,1.2254976E12,1.2228192E12,1.170288E12,1.1676096E12,1.1649312E12,1.0965888E12,1.1123136E12,1.1096352E12,1.107216E12,1.1045376E12,1.1018592E12,1.0992672E12,1.0939968E12,1.117584E12,1.0913184E12,1.08864E12,1.086048E12,1.0833696E12,1.0807776E12,1.0780992E12,1.1149056E12,1.120176E12,1.1623392E12,1.1438496E12,1.1596608E12,1.1570688E12,1.1543904E12,1.151712E12,1.14912E12,1.1464416E12,1.1411712E12,1.1228544E12,1.138752E12,1.1360736E12,1.1333952E12,1.1308032E12,1.1281248E12,1.1255328E12,1.2596256E12,1.262304E12,1.2649824E12,1.383264E12,1.3989024E12,1.3963104E12,1.393632E12,1.3912128E12,1.3885344E12,1.385856E12,1.3805856E12,1.4041728E12,1.3779936E12,1.3753152E12,1.3726368E12,1.3700448E12,1.3673664E12,1.3647744E12,1.4015808E12,1.4068512E12,1.3596768E12,1.4304384E12,1.446336E12,1.4436576E12,1.4410656E12,1.4383872E12,1.4357088E12,1.4331168E12,1.4278464E12,1.4095296E12,1.425168E12,1.4227488E12,1.4200704E12,1.417392E12,1.4148E12,1.4121216E12,1.362096E12,1.3569984E12,1.2674016E12,1.2885696E12,1.304208E12,1.301616E12,1.2989376E12,1.2965184E12,1.29384E12,1.2911616E12,1.2858912E12,1.3094784E12,1.2832992E12,1.2806208E12,1.2779424E12,1.2753504E12,1.272672E12,1.27008E12,1.3068864E12,1.3121568E12,1.35432E12,1.3358304E12,1.351728E12,1.3490496E12,1.3464576E12,1.3437792E12,1.3411008E12,1.3385088E12,1.3332384E12,1.3148352E12,1.33056E12,1.3280544E12,1.325376E12,1.3226976E12,1.3201056E12,1.3174272E12,1.0729152E12],\n\"TypeOfDelay\":[\"Weather\",\"Weather\",\"Weather\",\"Weather\",\"Weather\",\"Weather\",\"Weather\",\"Weather\",\"Weather\",\"Weather\",\"Weather\",\"Weather\",\"Weather\",\"Weather\",\"Weather\",\"Weather\",\"Weather\",\"Weather\",\"Weather\",\"Weather\",\"Weather\",\"Weather\",\"Weather\",\"Weather\",\"Weather\",\"Weather\",\"Weather\",\"Weather\",\"Weather\",\"Weather\",\"Weather\",\"Weather\",\"Weather\",\"Weather\",\"Weather\",\"Weather\",\"Weather\",\"Weather\",\"Weather\",\"Weather\",\"Weather\",\"Weather\",\"Weather\",\"Weather\",\"Weather\",\"Weather\",\"Weather\",\"Weather\",\"Weather\",\"Weather\",\"Weather\",\"Weather\",\"Weather\",\"Weather\",\"Weather\",\"Weather\",\"Weather\",\"Weather\",\"Weather\",\"Weather\",\"Weather\",\"Weather\",\"Weather\",\"Weather\",\"Weather\",\"Weather\",\"Weather\",\"Weather\",\"Weather\",\"Weather\",\"Weather\",\"Weather\",\"Weather\",\"Weather\",\"Weather\",\"Weather\",\"Weather\",\"Weather\",\"Weather\",\"Weather\",\"Weather\",\"Weather\",\"Weather\",\"Weather\",\"Weather\",\"Weather\",\"Weather\",\"Weather\",\"Weather\",\"Weather\",\"Weather\",\"Weather\",\"Weather\",\"Weather\",\"Weather\",\"Weather\",\"Weather\",\"Weather\",\"Weather\",\"Weather\",\"Weather\",\"Weather\",\"Weather\",\"Weather\",\"Weather\",\"Weather\",\"Weather\",\"Weather\",\"Weather\",\"Weather\",\"Weather\",\"Weather\",\"Weather\",\"Weather\",\"Weather\",\"Weather\",\"Weather\",\"Weather\",\"Weather\",\"Weather\",\"Weather\",\"Weather\",\"Weather\",\"Weather\",\"Weather\",\"Weather\",\"Weather\",\"Weather\",\"Weather\",\"Weather\",\"Weather\",\"Weather\",\"Weather\",\"Weather\",\"Weather\",\"Weather\",\"Weather\",\"Weather\",\"Weather\",\"Weather\",\"Weather\",\"Weather\",\"Weather\",\"Weather\",\"LateAircraft\",\"LateAircraft\",\"LateAircraft\",\"LateAircraft\",\"LateAircraft\",\"LateAircraft\",\"LateAircraft\",\"LateAircraft\",\"LateAircraft\",\"LateAircraft\",\"LateAircraft\",\"LateAircraft\",\"LateAircraft\",\"LateAircraft\",\"LateAircraft\",\"LateAircraft\",\"LateAircraft\",\"LateAircraft\",\"LateAircraft\",\"LateAircraft\",\"LateAircraft\",\"LateAircraft\",\"LateAircraft\",\"LateAircraft\",\"LateAircraft\",\"LateAircraft\",\"LateAircraft\",\"LateAircraft\",\"LateAircraft\",\"LateAircraft\",\"LateAircraft\",\"LateAircraft\",\"LateAircraft\",\"LateAircraft\",\"LateAircraft\",\"LateAircraft\",\"LateAircraft\",\"LateAircraft\",\"LateAircraft\",\"LateAircraft\",\"LateAircraft\",\"LateAircraft\",\"LateAircraft\",\"LateAircraft\",\"LateAircraft\",\"LateAircraft\",\"LateAircraft\",\"LateAircraft\",\"LateAircraft\",\"LateAircraft\",\"LateAircraft\",\"LateAircraft\",\"LateAircraft\",\"LateAircraft\",\"LateAircraft\",\"LateAircraft\",\"LateAircraft\",\"LateAircraft\",\"LateAircraft\",\"LateAircraft\",\"LateAircraft\",\"LateAircraft\",\"LateAircraft\",\"LateAircraft\",\"LateAircraft\",\"LateAircraft\",\"LateAircraft\",\"LateAircraft\",\"LateAircraft\",\"LateAircraft\",\"LateAircraft\",\"LateAircraft\",\"LateAircraft\",\"LateAircraft\",\"LateAircraft\",\"LateAircraft\",\"LateAircraft\",\"LateAircraft\",\"LateAircraft\",\"LateAircraft\",\"LateAircraft\",\"LateAircraft\",\"LateAircraft\",\"LateAircraft\",\"LateAircraft\",\"LateAircraft\",\"LateAircraft\",\"LateAircraft\",\"LateAircraft\",\"LateAircraft\",\"LateAircraft\",\"LateAircraft\",\"LateAircraft\",\"LateAircraft\",\"LateAircraft\",\"LateAircraft\",\"LateAircraft\",\"LateAircraft\",\"LateAircraft\",\"LateAircraft\",\"LateAircraft\",\"LateAircraft\",\"LateAircraft\",\"LateAircraft\",\"LateAircraft\",\"LateAircraft\",\"LateAircraft\",\"LateAircraft\",\"LateAircraft\",\"LateAircraft\",\"LateAircraft\",\"LateAircraft\",\"LateAircraft\",\"LateAircraft\",\"LateAircraft\",\"LateAircraft\",\"LateAircraft\",\"LateAircraft\",\"LateAircraft\",\"LateAircraft\",\"LateAircraft\",\"LateAircraft\",\"LateAircraft\",\"LateAircraft\",\"LateAircraft\",\"LateAircraft\",\"LateAircraft\",\"LateAircraft\",\"LateAircraft\",\"LateAircraft\",\"LateAircraft\",\"LateAircraft\",\"LateAircraft\",\"LateAircraft\",\"LateAircraft\",\"LateAircraft\",\"LateAircraft\",\"LateAircraft\",\"LateAircraft\",\"LateAircraft\",\"LateAircraft\",\"LateAircraft\",\"LateAircraft\",\"LateAircraft\"],\n\"NumberDelays\":[3970.0,1594.0,1837.0,1712.0,2937.0,3603.0,2904.0,4675.0,2211.0,3444.0,1808.0,3619.0,4616.0,4804.0,2526.0,2415.0,3884.0,2816.0,4507.0,2011.0,619.0,1795.0,1139.0,2511.0,2585.0,2901.0,1990.0,1259.0,1997.0,1275.0,2959.0,4793.0,1172.0,876.0,2854.0,3902.0,2055.0,2711.0,1958.0,1628.0,2778.0,2322.0,4156.0,4019.0,2321.0,4540.0,1617.0,3625.0,3406.0,4366.0,3140.0,1679.0,3573.0,3224.0,3373.0,2615.0,2615.0,2939.0,2835.0,3307.0,3815.0,3847.0,2031.0,1625.0,2549.0,2567.0,2814.0,3376.0,1899.0,2031.0,3283.0,2179.0,2895.0,1003.0,1940.0,1235.0,1310.0,2214.0,3862.0,2972.0,756.0,2596.0,1343.0,1605.0,2723.0,3423.0,1871.0,1787.0,2867.0,2180.0,1555.0,2250.0,1226.0,793.0,1383.0,2370.0,2183.0,2894.0,1704.0,1233.0,1583.0,2966.0,1995.0,1149.0,1228.0,1067.0,1672.0,1613.0,1814.0,977.0,2042.0,1796.0,1115.0,1830.0,1906.0,2573.0,1045.0,2290.0,1270.0,1619.0,2536.0,2470.0,1899.0,1003.0,2200.0,2409.0,1713.0,2052.0,747.0,922.0,1087.0,1890.0,2739.0,1638.0,1197.0,1190.0,1767.0,1098.0,1742.0,1013.0,761.0,850.0,1735.0,2047.0,18174.0,23910.0,23452.0,23794.0,32938.0,33206.0,30466.0,40727.0,22081.0,25242.0,19062.0,36727.0,38909.0,38032.0,25584.0,28307.0,31719.0,33102.0,28064.0,24389.0,19717.0,10396.0,22909.0,12134.0,22903.0,26478.0,26239.0,20755.0,12440.0,22182.0,14696.0,20799.0,36485.0,15176.0,13149.0,33296.0,29834.0,32793.0,17896.0,15672.0,24405.0,19070.0,25621.0,29141.0,19366.0,11952.0,27115.0,23222.0,24777.0,26191.0,19697.0,15042.0,17260.0,17078.0,33544.0,24332.0,24539.0,29212.0,24000.0,28764.0,32354.0,32214.0,25189.0,27350.0,26606.0,22719.0,20513.0,29255.0,17978.0,18213.0,15003.0,28017.0,19199.0,19530.0,17757.0,25020.0,22187.0,25154.0,24416.0,28764.0,34715.0,18808.0,29212.0,17914.0,28174.0,36058.0,37144.0,24507.0,26966.0,32170.0,25532.0,18993.0,20694.0,15317.0,12591.0,12734.0,22412.0,27109.0,28231.0,18390.0,17883.0,22603.0,21549.0,21901.0,25887.0,19473.0,21156.0,23879.0,19113.0,21350.0,17432.0,24655.0,26101.0,23862.0,20574.0,21785.0,29601.0,18105.0,27774.0,14758.0,22317.0,28108.0,27097.0,21042.0,15012.0,27007.0,23034.0,26187.0,18362.0,15280.0,20367.0,18287.0,26161.0,30599.0,23087.0,14853.0,15929.0,20165.0,12502.0,15160.0,15609.0,14130.0,14682.0,19907.0]\n},\n\"mapping\":{\n\"x\":\"Time\",\n\"y\":\"NumberDelays\",\n\"fill\":\"TypeOfDelay\"\n},\n\"data_meta\":{\n\"series_annotations\":[{\n\"column\":\"Time\",\n\"type\":\"datetime\"\n}]\n},\n\"ggtitle\":{\n\"text\":\"Total delays in US airports, 2004-2015\"\n},\n\"kind\":\"plot\",\n\"scales\":[{\n\"aesthetic\":\"x\",\n\"datetime\":true\n},{\n\"name\":\"Time\",\n\"aesthetic\":\"x\"\n},{\n\"name\":\"Number of delays\",\n\"aesthetic\":\"y\"\n},{\n\"name\":\"Type of delay\",\n\"aesthetic\":\"fill\",\n\"labels\":[\"Weather\",\"Late aircraft\"],\n\"type\":\"qual\",\n\"palette\":\"Pastel1\",\n\"scale_mapper_kind\":\"color_brewer\"\n}],\n\"layers\":[{\n\"geom\":\"area\",\n\"mapping\":{\n},\n\"data_meta\":{\n},\n\"color\":\"white\",\n\"data\":{\n}\n}],\n\"metainfo_list\":[]\n};\n           var plotContainer = document.getElementById(\"DjXPJK\");\n           window.letsPlotCall(function() {{\n               LetsPlot.buildPlotFromProcessedSpecs(plotSpec, -1, -1, plotContainer);\n           }});\n       })();    \n   </script>"
     },
     "execution_count": 22,
     "metadata": {},
     "output_type": "execute_result"
    }
   ],
   "source": [
    "(\n",
    "        ggplot(\n",
    "            delays_by_time_and_cause[\n",
    "                delays_by_time_and_cause[\"TypeOfDelay\"].isin([\"LateAircraft\", \"Weather\"])].sort_values(\"TypeOfDelay\",\n",
    "                                                                                                       ascending=False),\n",
    "            aes(x=\"Time\", y=\"NumberDelays\", fill=\"TypeOfDelay\"))\n",
    "        + geom_area(color = \"white\")\n",
    "        + scale_x_datetime()\n",
    "        + xlab(\"Time\")\n",
    "        + ylab(\"Number of delays\")\n",
    "        + ggtitle(\"Total delays in US airports, 2004-2015\")\n",
    "        + scale_fill_brewer(type=\"qual\", palette=\"Pastel1\", name=\"Type of delay\", labels=[\"Weather\", \"Late aircraft\"])\n",
    ")"
   ],
   "metadata": {
    "collapsed": false
   }
  },
  {
   "cell_type": "code",
   "execution_count": null,
   "outputs": [],
   "source": [],
   "metadata": {
    "collapsed": false
   }
  }
 ],
 "metadata": {
  "kernelspec": {
   "display_name": "Python 3",
   "language": "python",
   "name": "python3"
  },
  "language_info": {
   "codemirror_mode": {
    "name": "ipython",
    "version": 2
   },
   "file_extension": ".py",
   "mimetype": "text/x-python",
   "name": "python",
   "nbconvert_exporter": "python",
   "pygments_lexer": "ipython2",
   "version": "2.7.6"
  }
 },
 "nbformat": 4,
 "nbformat_minor": 0
}
